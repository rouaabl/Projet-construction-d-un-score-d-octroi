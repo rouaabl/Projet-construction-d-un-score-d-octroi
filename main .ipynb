{
 "cells": [
  {
   "cell_type": "code",
   "execution_count": 1,
   "id": "f795e9c7",
   "metadata": {},
   "outputs": [],
   "source": [
    "import pandas as pd\n",
    "import matplotlib.pyplot as plt"
   ]
  },
  {
   "cell_type": "code",
   "execution_count": 23,
   "id": "61a3d719",
   "metadata": {},
   "outputs": [],
   "source": [
    "accounts = pd.read_csv(\"accounts.csv\") \n",
    "transactions = pd.read_csv(\"transactions.csv\") "
   ]
  },
  {
   "cell_type": "code",
   "execution_count": 24,
   "id": "d9c89f04",
   "metadata": {},
   "outputs": [
    {
     "data": {
      "text/plain": [
       "id_bank_account      int64\n",
       "max_date            object\n",
       "balance            float64\n",
       "dtype: object"
      ]
     },
     "execution_count": 24,
     "metadata": {},
     "output_type": "execute_result"
    }
   ],
   "source": [
    "accounts.dtypes"
   ]
  },
  {
   "cell_type": "code",
   "execution_count": 25,
   "id": "d79a7763",
   "metadata": {},
   "outputs": [
    {
     "data": {
      "text/plain": [
       "id_bank_account      int64\n",
       "date                object\n",
       "amount             float64\n",
       "category_l1         object\n",
       "category_l2         object\n",
       "dtype: object"
      ]
     },
     "execution_count": 25,
     "metadata": {},
     "output_type": "execute_result"
    }
   ],
   "source": [
    "transactions.dtypes"
   ]
  },
  {
   "cell_type": "code",
   "execution_count": 26,
   "id": "7a74ce50",
   "metadata": {},
   "outputs": [],
   "source": [
    "# Convert the Date column to a datetime data type\n",
    "transactions['date'] = pd.to_datetime(transactions['date'])\n",
    "accounts['max_date'] = pd.to_datetime(accounts['max_date'])"
   ]
  },
  {
   "cell_type": "code",
   "execution_count": 27,
   "id": "47e50eff",
   "metadata": {},
   "outputs": [
    {
     "data": {
      "text/plain": [
       "array(['loan', nan, 'unindentifiedPayments', 'interPersonalTransfer',\n",
       "       'brands', 'ATM', 'smallShops', 'telecom', 'personalTransfer',\n",
       "       'incomes', 'energy', 'water', 'insurance', 'bankFees', 'savings',\n",
       "       'gambling', 'taxes', 'overdraft', 'loanSuspicion', 'rejection',\n",
       "       'rent', 'alimony', 'videoGames', 'fraud'], dtype=object)"
      ]
     },
     "execution_count": 27,
     "metadata": {},
     "output_type": "execute_result"
    }
   ],
   "source": [
    "transactions['category_l1'].unique()"
   ]
  },
  {
   "cell_type": "code",
   "execution_count": 28,
   "id": "a861915f",
   "metadata": {},
   "outputs": [
    {
     "data": {
      "text/plain": [
       "array(['consumerCredit', nan, 'thirdParty', 'retail', 'hotel', 'check',\n",
       "       'fastFood', 'Potentiel', 'IT', 'transport', 'cashDeposit', 'food',\n",
       "       'servicePack', 'supermarket', 'Compte rémunéré', 'parking',\n",
       "       'restaurant', 'CAF', 'videoStreaming', 'doctor', 'CPAM', 'Salaire',\n",
       "       'Placement', 'mobile', 'sepaTransferFees ', 'Inconnu',\n",
       "       'accountManagementFees', 'personInsurance', 'savings',\n",
       "       'overdraftInterestReimbursement', 'barTobaccoPress', 'carWorkshop',\n",
       "       'overdraftInterest', 'clothes', 'magazine', 'intervention',\n",
       "       'propertyInsurance', 'splitPayment', 'pharmacy',\n",
       "       'rejectionFeesReimbursement', 'Chômage', 'Livret A',\n",
       "       'creditCardFees', 'musicStreaming', 'cardPaymentOutsideEU',\n",
       "       'Assurance vie', 'creditCard', 'bailiff', 'rejectionFees',\n",
       "       'mortgage', 'cinema', 'Taxe sur les transactions financières',\n",
       "       'Timbre fiscal', 'microCredit', 'bookshop', 'Revenus', 'Loyers',\n",
       "       'internet', 'Amende', 'Professionnel', 'withdrawalEurosFees',\n",
       "       'sport', 'Urssaf', 'animalExpenses', 'florist', 'CSG',\n",
       "       'packOption', 'informationLetter', 'car', 'interchangeFee',\n",
       "       'currencyExchange', 'Actions', 'hairdresser', 'taxi',\n",
       "       'bankFeesInsurance', 'Divers', 'PEL', 'beautyCare', 'Retraite',\n",
       "       'otherCreditCardFees', 'withdrawalOutsideEUFees', 'personalCare',\n",
       "       'creditConsolidation', 'museum', 'clothing', 'invoiceInterest',\n",
       "       'Dépôt à terme', 'PER', 'brokerageFees', 'Habitation',\n",
       "       'custodianFees', 'health', 'camping', 'PEA',\n",
       "       'Prélèvement de solidarité sur les revenus du patrimoine et les produits de placement',\n",
       "       'culture', 'Pension alimentaire', 'checkFees', 'CRDS', 'MSA',\n",
       "       'sepaDirectDebitFees', 'creditFees', 'Taxe foncière',\n",
       "       'turnoverFees'], dtype=object)"
      ]
     },
     "execution_count": 28,
     "metadata": {},
     "output_type": "execute_result"
    }
   ],
   "source": [
    "transactions['category_l2'].unique()"
   ]
  },
  {
   "cell_type": "markdown",
   "id": "fcbeeb1a",
   "metadata": {},
   "source": [
    "<code style=\"background:LightBlue;color:white\"> <strong><em> Création de la variable \"défaut de paiement\"  </em> </strong> "
   ]
  },
  {
   "cell_type": "code",
   "execution_count": 97,
   "id": "948a7583",
   "metadata": {},
   "outputs": [],
   "source": [
    "import datetime\n",
    "def detect_defaut_paiement(compte):\n",
    "    transactions_compte = transactions[transactions['id_bank_account'] == compte]\n",
    "    try:\n",
    "        default=transactions_compte[\n",
    "        (transactions_compte[\"category_l1\"]==\"rejection\")&\n",
    "        (max(transactions_compte[\"date\"]) - transactions_compte[\"date\"] < datetime.timedelta(365))\n",
    "    ]\n",
    "    except:\n",
    "        return -1\n",
    "    nb_rejet=len(default)  \n",
    "    if nb_rejet>=3:\n",
    "        return 1\n",
    "        \n",
    "    return 0"
   ]
  },
  {
   "cell_type": "code",
   "execution_count": 98,
   "id": "3eac911f",
   "metadata": {},
   "outputs": [],
   "source": [
    "defauts =[detect_defaut_paiement(compte) for compte in accounts['id_bank_account'] ]\n",
    "accounts[\"Defaut_paiement\"]=defauts"
   ]
  },
  {
   "cell_type": "code",
   "execution_count": 99,
   "id": "2e624caa",
   "metadata": {},
   "outputs": [],
   "source": [
    "# Count the occurrences of each status\n",
    "status_counts = accounts[\"Defaut_paiement\"].value_counts()"
   ]
  },
  {
   "cell_type": "code",
   "execution_count": 100,
   "id": "c633f8ef",
   "metadata": {},
   "outputs": [
    {
     "data": {
      "image/png": "[encoded data removed]",
      "text/plain": [
       "<Figure size 432x288 with 1 Axes>"
      ]
     },
     "metadata": {
      "needs_background": "light"
     },
     "output_type": "display_data"
    }
   ],
   "source": [
    "import matplotlib.pyplot as plt\n",
    "\n",
    "# Plotting the counts\n",
    "status_counts.plot(kind='bar', color='blue', alpha=0.7)\n",
    "plt.xlabel('Default Status')\n",
    "plt.ylabel('Frequency')\n",
    "plt.title('Frequency of Each Class in the DataFrame')\n",
    "plt.xticks(rotation=0)  # Keep the labels on the x-axis vertical for readability\n",
    "plt.show()"
   ]
  },
  {
   "cell_type": "code",
   "execution_count": 130,
   "id": "4225df16",
   "metadata": {},
   "outputs": [
    {
     "data": {
      "text/html": [
       "<div>\n",
       "<style scoped>\n",
       "    .dataframe tbody tr th:only-of-type {\n",
       "        vertical-align: middle;\n",
       "    }\n",
       "\n",
       "    .dataframe tbody tr th {\n",
       "        vertical-align: top;\n",
       "    }\n",
       "\n",
       "    .dataframe thead th {\n",
       "        text-align: right;\n",
       "    }\n",
       "</style>\n",
       "<table border=\"1\" class=\"dataframe\">\n",
       "  <thead>\n",
       "    <tr style=\"text-align: right;\">\n",
       "      <th></th>\n",
       "      <th>id_bank_account</th>\n",
       "      <th>max_date</th>\n",
       "      <th>balance</th>\n",
       "      <th>Defaut_paiement</th>\n",
       "    </tr>\n",
       "  </thead>\n",
       "  <tbody>\n",
       "    <tr>\n",
       "      <th>60</th>\n",
       "      <td>1983</td>\n",
       "      <td>2023-05-18 22:00:00</td>\n",
       "      <td>535.85</td>\n",
       "      <td>1</td>\n",
       "    </tr>\n",
       "    <tr>\n",
       "      <th>118</th>\n",
       "      <td>2181</td>\n",
       "      <td>2023-08-21 22:00:00</td>\n",
       "      <td>-135.55</td>\n",
       "      <td>1</td>\n",
       "    </tr>\n",
       "    <tr>\n",
       "      <th>150</th>\n",
       "      <td>2259</td>\n",
       "      <td>2022-05-19 22:00:00</td>\n",
       "      <td>-6527.13</td>\n",
       "      <td>1</td>\n",
       "    </tr>\n",
       "    <tr>\n",
       "      <th>151</th>\n",
       "      <td>2260</td>\n",
       "      <td>2022-05-23 22:00:00</td>\n",
       "      <td>-822.43</td>\n",
       "      <td>1</td>\n",
       "    </tr>\n",
       "    <tr>\n",
       "      <th>157</th>\n",
       "      <td>2268</td>\n",
       "      <td>2022-05-23 22:00:00</td>\n",
       "      <td>-822.43</td>\n",
       "      <td>1</td>\n",
       "    </tr>\n",
       "    <tr>\n",
       "      <th>...</th>\n",
       "      <td>...</td>\n",
       "      <td>...</td>\n",
       "      <td>...</td>\n",
       "      <td>...</td>\n",
       "    </tr>\n",
       "    <tr>\n",
       "      <th>31153</th>\n",
       "      <td>69543</td>\n",
       "      <td>2024-02-29 23:00:00</td>\n",
       "      <td>-506.23</td>\n",
       "      <td>1</td>\n",
       "    </tr>\n",
       "    <tr>\n",
       "      <th>31154</th>\n",
       "      <td>69544</td>\n",
       "      <td>2024-02-28 23:00:00</td>\n",
       "      <td>-12.90</td>\n",
       "      <td>1</td>\n",
       "    </tr>\n",
       "    <tr>\n",
       "      <th>31168</th>\n",
       "      <td>69559</td>\n",
       "      <td>2024-02-26 23:00:00</td>\n",
       "      <td>286.00</td>\n",
       "      <td>1</td>\n",
       "    </tr>\n",
       "    <tr>\n",
       "      <th>31207</th>\n",
       "      <td>69608</td>\n",
       "      <td>2024-02-29 23:00:00</td>\n",
       "      <td>571.04</td>\n",
       "      <td>1</td>\n",
       "    </tr>\n",
       "    <tr>\n",
       "      <th>31434</th>\n",
       "      <td>69922</td>\n",
       "      <td>2024-03-03 23:00:00</td>\n",
       "      <td>-169.88</td>\n",
       "      <td>1</td>\n",
       "    </tr>\n",
       "  </tbody>\n",
       "</table>\n",
       "<p>370 rows × 4 columns</p>\n",
       "</div>"
      ],
      "text/plain": [
       "       id_bank_account            max_date  balance  Defaut_paiement\n",
       "60                1983 2023-05-18 22:00:00   535.85                1\n",
       "118               2181 2023-08-21 22:00:00  -135.55                1\n",
       "150               2259 2022-05-19 22:00:00 -6527.13                1\n",
       "151               2260 2022-05-23 22:00:00  -822.43                1\n",
       "157               2268 2022-05-23 22:00:00  -822.43                1\n",
       "...                ...                 ...      ...              ...\n",
       "31153            69543 2024-02-29 23:00:00  -506.23                1\n",
       "31154            69544 2024-02-28 23:00:00   -12.90                1\n",
       "31168            69559 2024-02-26 23:00:00   286.00                1\n",
       "31207            69608 2024-02-29 23:00:00   571.04                1\n",
       "31434            69922 2024-03-03 23:00:00  -169.88                1\n",
       "\n",
       "[370 rows x 4 columns]"
      ]
     },
     "execution_count": 130,
     "metadata": {},
     "output_type": "execute_result"
    }
   ],
   "source": [
    "accounts[accounts[\"Defaut_paiement\"]==1]"
   ]
  },
  {
   "cell_type": "markdown",
   "id": "0ba09629",
   "metadata": {},
   "source": [
    "<code style=\"background:LightBlue;color:white\"> <strong><em> Création de la variable \"nbre de rejection passée les 3 mois précédents\"  </em> </strong> "
   ]
  },
  {
   "cell_type": "code",
   "execution_count": 137,
   "id": "95dd8c40",
   "metadata": {},
   "outputs": [],
   "source": [
    "def past_rejection(compte):\n",
    "    transactions_compte = transactions[transactions['id_bank_account'] == compte]\n",
    "    try:\n",
    "        df=transactions_compte[\n",
    "            (transactions_compte['date']>(max(transactions_compte['date'])- datetime.timedelta(90)))]\n",
    "    except:\n",
    "        return 0\n",
    "        \n",
    "    return len(df[df['category_l1']=='rejection'])\n",
    "       "
   ]
  },
  {
   "cell_type": "code",
   "execution_count": 138,
   "id": "fc0889d8",
   "metadata": {},
   "outputs": [],
   "source": [
    "n_rejet =[past_rejection(compte) for compte in accounts['id_bank_account'] ]\n",
    "accounts[\"n_rejection\"]=n_rejet"
   ]
  },
  {
   "cell_type": "markdown",
   "id": "4577df00",
   "metadata": {},
   "source": [
    "<code style=\"background:LightBlue;color:white\"> <strong><em> Création de la variable \"Le montant total de rejection passée les 3 mois précédents\"  </em> </strong> "
   ]
  },
  {
   "cell_type": "code",
   "execution_count": 139,
   "id": "a03ee0fe",
   "metadata": {},
   "outputs": [],
   "source": [
    "def total_amount_rejection(compte):\n",
    "    transactions_compte = transactions[transactions['id_bank_account'] == compte]\n",
    "    try:\n",
    "        df=transactions_compte[\n",
    "            (transactions_compte['date']>(max(transactions_compte['date'])- datetime.timedelta(90)))]\n",
    "    except:\n",
    "        return 0\n",
    "        \n",
    "    return sum(df[df['category_l1']=='rejection']['amount'])\n",
    "       "
   ]
  },
  {
   "cell_type": "code",
   "execution_count": 140,
   "id": "570718a3",
   "metadata": {},
   "outputs": [],
   "source": [
    "sum_rejet =[total_amount_rejection(compte) for compte in accounts['id_bank_account'] ]\n",
    "accounts[\"sum_rejection\"]=sum_rejet"
   ]
  },
  {
   "cell_type": "markdown",
   "id": "1dfb3f17",
   "metadata": {},
   "source": [
    "<code style=\"background:LightBlue;color:white\"> <strong><em> Création de la variable \"Temps écoulé depuis la dernière rejection\"  </em> </strong> "
   ]
  },
  {
   "cell_type": "code",
   "execution_count": 142,
   "id": "124cea06",
   "metadata": {},
   "outputs": [],
   "source": [
    "def temps_rejection(compte):\n",
    "    transactions_compte = transactions[transactions['id_bank_account'] == compte]\n",
    "    try:\n",
    "        df=transactions_compte[transactions_compte[\"category_l1\"]==\"rejection\"]\n",
    "        return max(transactions_compte['date'])-max(df['date'])\n",
    "    except:\n",
    "        return None\n",
    "        "
   ]
  },
  {
   "cell_type": "code",
   "execution_count": 143,
   "id": "7d96f2d0",
   "metadata": {},
   "outputs": [],
   "source": [
    "temps =[temps_rejection(compte) for compte in accounts['id_bank_account'] ]\n",
    "accounts[\"Time_last_rejection\"]=temps"
   ]
  },
  {
   "cell_type": "code",
   "execution_count": null,
   "id": "9ffc5e87",
   "metadata": {},
   "outputs": [],
   "source": []
  },
  {
   "cell_type": "code",
   "execution_count": null,
   "id": "c1e7fd57",
   "metadata": {},
   "outputs": [],
   "source": []
  },
  {
   "cell_type": "code",
   "execution_count": 29,
   "id": "ec320adc",
   "metadata": {},
   "outputs": [],
   "source": [
    "# Fonction pour vérifier si deux dates ont plus de 12 mois d'écart\n",
    "def moins_de_12_mois_ecart(date1, date2):\n",
    "    # Calcul de la différence en mois\n",
    "    difference_mois = (date2.year - date1.year) * 12 + date2.month - date1.month\n",
    "    \n",
    "    # Vérification si la différence est supérieure à 12 mois\n",
    "    return difference_mois < 12"
   ]
  },
  {
   "cell_type": "code",
   "execution_count": null,
   "id": "cb39e219",
   "metadata": {},
   "outputs": [],
   "source": []
  },
  {
   "cell_type": "code",
   "execution_count": null,
   "id": "d671dbc6",
   "metadata": {},
   "outputs": [],
   "source": []
  }
 ],
 "metadata": {
  "kernelspec": {
   "display_name": "Python 3 (ipykernel)",
   "language": "python",
   "name": "python3"
  },
  "language_info": {
   "codemirror_mode": {
    "name": "ipython",
    "version": 3
   },
   "file_extension": ".py",
   "mimetype": "text/x-python",
   "name": "python",
   "nbconvert_exporter": "python",
   "pygments_lexer": "ipython3",
   "version": "3.9.7"
  }
 },
 "nbformat": 4,
 "nbformat_minor": 5
}
