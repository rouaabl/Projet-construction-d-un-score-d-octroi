{
 "cells": [
  {
   "cell_type": "code",
   "execution_count": 5,
   "id": "7907937d-3211-4313-b5f9-10b0aed1fe04",
   "metadata": {},
   "outputs": [],
   "source": [
    "import pandas as pd"
   ]
  },
  {
   "cell_type": "code",
   "execution_count": 17,
   "id": "10ce4ce3-6246-47fb-9f02-6b8632f2a08d",
   "metadata": {},
   "outputs": [],
   "source": [
    "acc=pd.read_csv(\"accounts.csv\")"
   ]
  },
  {
   "cell_type": "code",
   "execution_count": 7,
   "id": "93b96e9e-cd11-4d1e-b55a-a265092613cd",
   "metadata": {},
   "outputs": [
    {
     "data": {
      "text/html": [
       "<div>\n",
       "<style scoped>\n",
       "    .dataframe tbody tr th:only-of-type {\n",
       "        vertical-align: middle;\n",
       "    }\n",
       "\n",
       "    .dataframe tbody tr th {\n",
       "        vertical-align: top;\n",
       "    }\n",
       "\n",
       "    .dataframe thead th {\n",
       "        text-align: right;\n",
       "    }\n",
       "</style>\n",
       "<table border=\"1\" class=\"dataframe\">\n",
       "  <thead>\n",
       "    <tr style=\"text-align: right;\">\n",
       "      <th></th>\n",
       "      <th>id_bank_account</th>\n",
       "      <th>max_date</th>\n",
       "      <th>balance</th>\n",
       "    </tr>\n",
       "  </thead>\n",
       "  <tbody>\n",
       "    <tr>\n",
       "      <th>0</th>\n",
       "      <td>1777</td>\n",
       "      <td>2023-10-11 22:00:00</td>\n",
       "      <td>-15.24</td>\n",
       "    </tr>\n",
       "    <tr>\n",
       "      <th>1</th>\n",
       "      <td>1778</td>\n",
       "      <td>2024-03-03 23:00:00</td>\n",
       "      <td>-443.17</td>\n",
       "    </tr>\n",
       "    <tr>\n",
       "      <th>2</th>\n",
       "      <td>1780</td>\n",
       "      <td>2024-03-03 23:00:00</td>\n",
       "      <td>2925.13</td>\n",
       "    </tr>\n",
       "    <tr>\n",
       "      <th>3</th>\n",
       "      <td>1781</td>\n",
       "      <td>2023-07-16 22:00:00</td>\n",
       "      <td>53.28</td>\n",
       "    </tr>\n",
       "    <tr>\n",
       "      <th>4</th>\n",
       "      <td>1785</td>\n",
       "      <td>2024-02-20 23:00:00</td>\n",
       "      <td>118.67</td>\n",
       "    </tr>\n",
       "  </tbody>\n",
       "</table>\n",
       "</div>"
      ],
      "text/plain": [
       "   id_bank_account             max_date  balance\n",
       "0             1777  2023-10-11 22:00:00   -15.24\n",
       "1             1778  2024-03-03 23:00:00  -443.17\n",
       "2             1780  2024-03-03 23:00:00  2925.13\n",
       "3             1781  2023-07-16 22:00:00    53.28\n",
       "4             1785  2024-02-20 23:00:00   118.67"
      ]
     },
     "execution_count": 7,
     "metadata": {},
     "output_type": "execute_result"
    }
   ],
   "source": [
    "acc.head(5)"
   ]
  },
  {
   "cell_type": "code",
   "execution_count": 8,
   "id": "cb9b2a5c-83d1-464a-81f4-ced8737d10f4",
   "metadata": {},
   "outputs": [],
   "source": [
    "import matplotlib.pyplot as plt"
   ]
  },
  {
   "cell_type": "code",
   "execution_count": 9,
   "id": "a881611a-70a1-4771-9155-4c3796de6e30",
   "metadata": {},
   "outputs": [
    {
     "data": {
      "text/plain": [
       "id_bank_account      int64\n",
       "max_date            object\n",
       "balance            float64\n",
       "dtype: object"
      ]
     },
     "execution_count": 9,
     "metadata": {},
     "output_type": "execute_result"
    }
   ],
   "source": [
    "acc.dtypes\n"
   ]
  },
  {
   "cell_type": "code",
   "execution_count": 12,
   "id": "640a9bcd-6c58-42de-88a3-ca78c509d0ea",
   "metadata": {},
   "outputs": [
    {
     "data": {
      "text/plain": [
       "(31436, 3)"
      ]
     },
     "execution_count": 12,
     "metadata": {},
     "output_type": "execute_result"
    }
   ],
   "source": [
    "acc.shape"
   ]
  },
  {
   "cell_type": "code",
   "execution_count": 18,
   "id": "c9faf54a-171c-4342-ac36-6ad2258f6e68",
   "metadata": {},
   "outputs": [],
   "source": [
    "trans=pd.read_csv(\"transactions.csv\")"
   ]
  },
  {
   "cell_type": "code",
   "execution_count": 15,
   "id": "a26473eb-40e6-4100-a9fd-3cc38c55e75b",
   "metadata": {},
   "outputs": [
    {
     "data": {
      "text/plain": [
       "id_bank_account      int64\n",
       "date                object\n",
       "amount             float64\n",
       "category_l1         object\n",
       "category_l2         object\n",
       "dtype: object"
      ]
     },
     "execution_count": 15,
     "metadata": {},
     "output_type": "execute_result"
    }
   ],
   "source": [
    "trans.dtypes"
   ]
  },
  {
   "cell_type": "code",
   "execution_count": 16,
   "id": "b777adcf-e301-4b09-96dc-f273b2c6bc69",
   "metadata": {},
   "outputs": [
    {
     "data": {
      "text/plain": [
       "(3470566, 5)"
      ]
     },
     "execution_count": 16,
     "metadata": {},
     "output_type": "execute_result"
    }
   ],
   "source": [
    "trans.shape"
   ]
  },
  {
   "cell_type": "code",
   "execution_count": null,
   "id": "2813f8f2-2254-4b83-9a2a-002e1129f32c",
   "metadata": {},
   "outputs": [],
   "source": []
  }
 ],
 "metadata": {
  "kernelspec": {
   "display_name": "Python 3 (ipykernel)",
   "language": "python",
   "name": "python3"
  },
  "language_info": {
   "codemirror_mode": {
    "name": "ipython",
    "version": 3
   },
   "file_extension": ".py",
   "mimetype": "text/x-python",
   "name": "python",
   "nbconvert_exporter": "python",
   "pygments_lexer": "ipython3",
   "version": "3.11.6"
  }
 },
 "nbformat": 4,
 "nbformat_minor": 5
}
