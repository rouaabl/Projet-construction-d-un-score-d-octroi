{
 "cells": [
  {
   "cell_type": "code",
   "execution_count": 37,
   "id": "f795e9c7",
   "metadata": {},
   "outputs": [],
   "source": [
    "import pandas as pd\n",
    "import matplotlib.pyplot as plt\n",
    "import numpy as np"
   ]
  },
  {
   "cell_type": "code",
   "execution_count": 2,
   "id": "61a3d719",
   "metadata": {},
   "outputs": [],
   "source": [
    "accounts = pd.read_csv(\"accounts.csv\") \n",
    "transactions = pd.read_csv(\"transactions.csv\") "
   ]
  },
  {
   "cell_type": "code",
   "execution_count": 3,
   "id": "d9c89f04",
   "metadata": {},
   "outputs": [
    {
     "data": {
      "text/plain": [
       "id_bank_account      int64\n",
       "max_date            object\n",
       "balance            float64\n",
       "dtype: object"
      ]
     },
     "execution_count": 3,
     "metadata": {},
     "output_type": "execute_result"
    }
   ],
   "source": [
    "accounts.dtypes"
   ]
  },
  {
   "cell_type": "code",
   "execution_count": 4,
   "id": "d79a7763",
   "metadata": {},
   "outputs": [
    {
     "data": {
      "text/plain": [
       "id_bank_account      int64\n",
       "date                object\n",
       "amount             float64\n",
       "category_l1         object\n",
       "category_l2         object\n",
       "dtype: object"
      ]
     },
     "execution_count": 4,
     "metadata": {},
     "output_type": "execute_result"
    }
   ],
   "source": [
    "transactions.dtypes"
   ]
  },
  {
   "cell_type": "code",
   "execution_count": 5,
   "id": "7a74ce50",
   "metadata": {},
   "outputs": [],
   "source": [
    "# Convert the Date column to a datetime data type\n",
    "transactions['date'] = pd.to_datetime(transactions['date'])\n",
    "accounts['max_date'] = pd.to_datetime(accounts['max_date'])"
   ]
  },
  {
   "cell_type": "code",
   "execution_count": 6,
   "id": "47e50eff",
   "metadata": {},
   "outputs": [
    {
     "data": {
      "text/plain": [
       "array(['loan', nan, 'unindentifiedPayments', 'interPersonalTransfer',\n",
       "       'brands', 'ATM', 'smallShops', 'telecom', 'personalTransfer',\n",
       "       'incomes', 'energy', 'water', 'insurance', 'bankFees', 'savings',\n",
       "       'gambling', 'taxes', 'overdraft', 'loanSuspicion', 'rejection',\n",
       "       'rent', 'alimony', 'videoGames', 'fraud'], dtype=object)"
      ]
     },
     "execution_count": 6,
     "metadata": {},
     "output_type": "execute_result"
    }
   ],
   "source": [
    "transactions['category_l1'].unique()"
   ]
  },
  {
   "cell_type": "code",
   "execution_count": 7,
   "id": "a861915f",
   "metadata": {},
   "outputs": [
    {
     "data": {
      "text/plain": [
       "array(['consumerCredit', nan, 'thirdParty', 'retail', 'hotel', 'check',\n",
       "       'fastFood', 'Potentiel', 'IT', 'transport', 'cashDeposit', 'food',\n",
       "       'servicePack', 'supermarket', 'Compte rémunéré', 'parking',\n",
       "       'restaurant', 'CAF', 'videoStreaming', 'doctor', 'CPAM', 'Salaire',\n",
       "       'Placement', 'mobile', 'sepaTransferFees ', 'Inconnu',\n",
       "       'accountManagementFees', 'personInsurance', 'savings',\n",
       "       'overdraftInterestReimbursement', 'barTobaccoPress', 'carWorkshop',\n",
       "       'overdraftInterest', 'clothes', 'magazine', 'intervention',\n",
       "       'propertyInsurance', 'splitPayment', 'pharmacy',\n",
       "       'rejectionFeesReimbursement', 'Chômage', 'Livret A',\n",
       "       'creditCardFees', 'musicStreaming', 'cardPaymentOutsideEU',\n",
       "       'Assurance vie', 'creditCard', 'bailiff', 'rejectionFees',\n",
       "       'mortgage', 'cinema', 'Taxe sur les transactions financières',\n",
       "       'Timbre fiscal', 'microCredit', 'bookshop', 'Revenus', 'Loyers',\n",
       "       'internet', 'Amende', 'Professionnel', 'withdrawalEurosFees',\n",
       "       'sport', 'Urssaf', 'animalExpenses', 'florist', 'CSG',\n",
       "       'packOption', 'informationLetter', 'car', 'interchangeFee',\n",
       "       'currencyExchange', 'Actions', 'hairdresser', 'taxi',\n",
       "       'bankFeesInsurance', 'Divers', 'PEL', 'beautyCare', 'Retraite',\n",
       "       'otherCreditCardFees', 'withdrawalOutsideEUFees', 'personalCare',\n",
       "       'creditConsolidation', 'museum', 'clothing', 'invoiceInterest',\n",
       "       'Dépôt à terme', 'PER', 'brokerageFees', 'Habitation',\n",
       "       'custodianFees', 'health', 'camping', 'PEA',\n",
       "       'Prélèvement de solidarité sur les revenus du patrimoine et les produits de placement',\n",
       "       'culture', 'Pension alimentaire', 'checkFees', 'CRDS', 'MSA',\n",
       "       'sepaDirectDebitFees', 'creditFees', 'Taxe foncière',\n",
       "       'turnoverFees'], dtype=object)"
      ]
     },
     "execution_count": 7,
     "metadata": {},
     "output_type": "execute_result"
    }
   ],
   "source": [
    "transactions['category_l2'].unique()"
   ]
  },
  {
   "cell_type": "markdown",
   "id": "fcbeeb1a",
   "metadata": {},
   "source": [
    "<code style=\"background:LightBlue;color:white\"> <strong><em> Création de la variable \"défaut de paiement\"  </em> </strong> "
   ]
  },
  {
   "cell_type": "code",
   "execution_count": 8,
   "id": "948a7583",
   "metadata": {},
   "outputs": [],
   "source": [
    "import datetime\n",
    "def detect_defaut_paiement(compte):\n",
    "    transactions_compte = transactions[transactions['id_bank_account'] == compte]\n",
    "    try:\n",
    "        default=transactions_compte[\n",
    "        (transactions_compte[\"category_l1\"]==\"rejection\")&\n",
    "        (max(transactions_compte[\"date\"]) - transactions_compte[\"date\"] < datetime.timedelta(365))\n",
    "    ]\n",
    "    except:\n",
    "        return -1\n",
    "    nb_rejet=len(default)  \n",
    "    if nb_rejet>=3:\n",
    "        return 1\n",
    "        \n",
    "    return 0"
   ]
  },
  {
   "cell_type": "code",
   "execution_count": 9,
   "id": "3eac911f",
   "metadata": {},
   "outputs": [],
   "source": [
    "defauts =[detect_defaut_paiement(compte) for compte in accounts['id_bank_account'] ]\n",
    "accounts[\"Defaut_paiement\"]=defauts"
   ]
  },
  {
   "cell_type": "code",
   "execution_count": 10,
   "id": "2e624caa",
   "metadata": {},
   "outputs": [],
   "source": [
    "# Count the occurrences of each status\n",
    "status_counts = accounts[\"Defaut_paiement\"].value_counts()"
   ]
  },
  {
   "cell_type": "code",
   "execution_count": 11,
   "id": "c633f8ef",
   "metadata": {},
   "outputs": [
    {
     "data": {
      "image/png": "[encoded data removed]",
      "text/plain": [
       "<Figure size 640x480 with 1 Axes>"
      ]
     },
     "metadata": {},
     "output_type": "display_data"
    }
   ],
   "source": [
    "import matplotlib.pyplot as plt\n",
    "\n",
    "# Plotting the counts\n",
    "status_counts.plot(kind='bar', color='blue', alpha=0.7)\n",
    "plt.xlabel('Default Status')\n",
    "plt.ylabel('Frequency')\n",
    "plt.title('Frequency of Each Class in the DataFrame')\n",
    "plt.xticks(rotation=0)  # Keep the labels on the x-axis vertical for readability\n",
    "plt.show()"
   ]
  },
  {
   "cell_type": "code",
   "execution_count": 12,
   "id": "4225df16",
   "metadata": {},
   "outputs": [
    {
     "data": {
      "text/html": [
       "<div>\n",
       "<style scoped>\n",
       "    .dataframe tbody tr th:only-of-type {\n",
       "        vertical-align: middle;\n",
       "    }\n",
       "\n",
       "    .dataframe tbody tr th {\n",
       "        vertical-align: top;\n",
       "    }\n",
       "\n",
       "    .dataframe thead th {\n",
       "        text-align: right;\n",
       "    }\n",
       "</style>\n",
       "<table border=\"1\" class=\"dataframe\">\n",
       "  <thead>\n",
       "    <tr style=\"text-align: right;\">\n",
       "      <th></th>\n",
       "      <th>id_bank_account</th>\n",
       "      <th>max_date</th>\n",
       "      <th>balance</th>\n",
       "      <th>Defaut_paiement</th>\n",
       "    </tr>\n",
       "  </thead>\n",
       "  <tbody>\n",
       "    <tr>\n",
       "      <th>60</th>\n",
       "      <td>1983</td>\n",
       "      <td>2023-05-18 22:00:00</td>\n",
       "      <td>535.85</td>\n",
       "      <td>1</td>\n",
       "    </tr>\n",
       "    <tr>\n",
       "      <th>118</th>\n",
       "      <td>2181</td>\n",
       "      <td>2023-08-21 22:00:00</td>\n",
       "      <td>-135.55</td>\n",
       "      <td>1</td>\n",
       "    </tr>\n",
       "    <tr>\n",
       "      <th>150</th>\n",
       "      <td>2259</td>\n",
       "      <td>2022-05-19 22:00:00</td>\n",
       "      <td>-6527.13</td>\n",
       "      <td>1</td>\n",
       "    </tr>\n",
       "    <tr>\n",
       "      <th>151</th>\n",
       "      <td>2260</td>\n",
       "      <td>2022-05-23 22:00:00</td>\n",
       "      <td>-822.43</td>\n",
       "      <td>1</td>\n",
       "    </tr>\n",
       "    <tr>\n",
       "      <th>157</th>\n",
       "      <td>2268</td>\n",
       "      <td>2022-05-23 22:00:00</td>\n",
       "      <td>-822.43</td>\n",
       "      <td>1</td>\n",
       "    </tr>\n",
       "    <tr>\n",
       "      <th>...</th>\n",
       "      <td>...</td>\n",
       "      <td>...</td>\n",
       "      <td>...</td>\n",
       "      <td>...</td>\n",
       "    </tr>\n",
       "    <tr>\n",
       "      <th>31153</th>\n",
       "      <td>69543</td>\n",
       "      <td>2024-02-29 23:00:00</td>\n",
       "      <td>-506.23</td>\n",
       "      <td>1</td>\n",
       "    </tr>\n",
       "    <tr>\n",
       "      <th>31154</th>\n",
       "      <td>69544</td>\n",
       "      <td>2024-02-28 23:00:00</td>\n",
       "      <td>-12.90</td>\n",
       "      <td>1</td>\n",
       "    </tr>\n",
       "    <tr>\n",
       "      <th>31168</th>\n",
       "      <td>69559</td>\n",
       "      <td>2024-02-26 23:00:00</td>\n",
       "      <td>286.00</td>\n",
       "      <td>1</td>\n",
       "    </tr>\n",
       "    <tr>\n",
       "      <th>31207</th>\n",
       "      <td>69608</td>\n",
       "      <td>2024-02-29 23:00:00</td>\n",
       "      <td>571.04</td>\n",
       "      <td>1</td>\n",
       "    </tr>\n",
       "    <tr>\n",
       "      <th>31434</th>\n",
       "      <td>69922</td>\n",
       "      <td>2024-03-03 23:00:00</td>\n",
       "      <td>-169.88</td>\n",
       "      <td>1</td>\n",
       "    </tr>\n",
       "  </tbody>\n",
       "</table>\n",
       "<p>370 rows × 4 columns</p>\n",
       "</div>"
      ],
      "text/plain": [
       "       id_bank_account            max_date  balance  Defaut_paiement\n",
       "60                1983 2023-05-18 22:00:00   535.85                1\n",
       "118               2181 2023-08-21 22:00:00  -135.55                1\n",
       "150               2259 2022-05-19 22:00:00 -6527.13                1\n",
       "151               2260 2022-05-23 22:00:00  -822.43                1\n",
       "157               2268 2022-05-23 22:00:00  -822.43                1\n",
       "...                ...                 ...      ...              ...\n",
       "31153            69543 2024-02-29 23:00:00  -506.23                1\n",
       "31154            69544 2024-02-28 23:00:00   -12.90                1\n",
       "31168            69559 2024-02-26 23:00:00   286.00                1\n",
       "31207            69608 2024-02-29 23:00:00   571.04                1\n",
       "31434            69922 2024-03-03 23:00:00  -169.88                1\n",
       "\n",
       "[370 rows x 4 columns]"
      ]
     },
     "execution_count": 12,
     "metadata": {},
     "output_type": "execute_result"
    }
   ],
   "source": [
    "accounts[accounts[\"Defaut_paiement\"]==1]"
   ]
  },
  {
   "cell_type": "markdown",
   "id": "0ba09629",
   "metadata": {},
   "source": [
    "<code style=\"background:LightBlue;color:white\"> <strong><em> Création de la variable \"nbre de rejection passée les 3 mois précédents\"  </em> </strong> "
   ]
  },
  {
   "cell_type": "code",
   "execution_count": 13,
   "id": "95dd8c40",
   "metadata": {},
   "outputs": [],
   "source": [
    "def past_rejection(compte):\n",
    "    transactions_compte = transactions[transactions['id_bank_account'] == compte]\n",
    "    try:\n",
    "        df=transactions_compte[\n",
    "            (transactions_compte['date']>(max(transactions_compte['date'])- datetime.timedelta(90)))]\n",
    "    except:\n",
    "        return 0\n",
    "        \n",
    "    return len(df[df['category_l1']=='rejection'])\n",
    "       "
   ]
  },
  {
   "cell_type": "code",
   "execution_count": 14,
   "id": "fc0889d8",
   "metadata": {},
   "outputs": [],
   "source": [
    "n_rejet =[past_rejection(compte) for compte in accounts['id_bank_account'] ]\n",
    "accounts[\"n_rejection\"]=n_rejet"
   ]
  },
  {
   "cell_type": "markdown",
   "id": "4577df00",
   "metadata": {},
   "source": [
    "<code style=\"background:LightBlue;color:white\"> <strong><em> Création de la variable \"Le montant total de rejection passée les 3 mois précédents\"  </em> </strong> "
   ]
  },
  {
   "cell_type": "code",
   "execution_count": 15,
   "id": "a03ee0fe",
   "metadata": {},
   "outputs": [],
   "source": [
    "def total_amount_rejection(compte):\n",
    "    transactions_compte = transactions[transactions['id_bank_account'] == compte]\n",
    "    try:\n",
    "        df=transactions_compte[\n",
    "            (transactions_compte['date']>(max(transactions_compte['date'])- datetime.timedelta(90)))]\n",
    "    except:\n",
    "        return 0\n",
    "        \n",
    "    return sum(df[df['category_l1']=='rejection']['amount'])\n",
    "       "
   ]
  },
  {
   "cell_type": "code",
   "execution_count": 16,
   "id": "570718a3",
   "metadata": {},
   "outputs": [],
   "source": [
    "sum_rejet =[total_amount_rejection(compte) for compte in accounts['id_bank_account'] ]\n",
    "accounts[\"sum_rejection\"]=sum_rejet"
   ]
  },
  {
   "cell_type": "markdown",
   "id": "1dfb3f17",
   "metadata": {},
   "source": [
    "<code style=\"background:LightBlue;color:white\"> <strong><em> Création de la variable \"Temps écoulé depuis la dernière rejection\"  </em> </strong> "
   ]
  },
  {
   "cell_type": "code",
   "execution_count": 17,
   "id": "124cea06",
   "metadata": {},
   "outputs": [],
   "source": [
    "def temps_rejection(compte):\n",
    "    transactions_compte = transactions[transactions['id_bank_account'] == compte]\n",
    "    try:\n",
    "        df=transactions_compte[transactions_compte[\"category_l1\"]==\"rejection\"]\n",
    "        return max(transactions_compte['date'])-max(df['date'])\n",
    "    except:\n",
    "        return 0\n",
    "        "
   ]
  },
  {
   "cell_type": "code",
   "execution_count": 18,
   "id": "7d96f2d0",
   "metadata": {},
   "outputs": [],
   "source": [
    "temps =[temps_rejection(compte) for compte in accounts['id_bank_account'] ]\n",
    "accounts[\"Time_last_rejection\"]=temps"
   ]
  },
  {
   "cell_type": "markdown",
   "id": "807ce32d-2afb-42cd-ac38-949a5f720652",
   "metadata": {},
   "source": [
    "<code style=\"background:LightBlue;color:white\"> <strong><em> Création de la variable \"evolution du solde sur les derniers 3 mois\"  </em> </strong> "
   ]
  },
  {
   "cell_type": "code",
   "execution_count": 19,
   "id": "c1e7fd57",
   "metadata": {},
   "outputs": [],
   "source": [
    "def evolution(compte):\n",
    "    transactions_compte = transactions[transactions['id_bank_account'] == compte]\n",
    "    try:\n",
    "        df=transactions_compte[\n",
    "            (transactions_compte['date']>(max(transactions_compte['date'])- datetime.timedelta(90)))]\n",
    "    except:\n",
    "        return 0\n",
    "    account=accounts[accounts['id_bank_account']==compte]\n",
    "    solde_ini=account['balance'].iloc[0]\n",
    "    for trans in df['amount']:\n",
    "        solde_ini-=trans\n",
    "    return account['balance'].iloc[0]-solde_ini\n",
    "    \n",
    "    "
   ]
  },
  {
   "cell_type": "code",
   "execution_count": 20,
   "id": "c3bd4f2c-220d-4c21-9f08-fe46c1763130",
   "metadata": {},
   "outputs": [],
   "source": [
    "accounts[\"account_evolution\"] =[evolution(compte) for compte in accounts['id_bank_account'] ]"
   ]
  },
  {
   "cell_type": "code",
   "execution_count": 21,
   "id": "ec320adc",
   "metadata": {},
   "outputs": [],
   "source": [
    "# Fonction pour vérifier si deux dates ont plus de 12 mois d'écart\n",
    "def moins_de_12_mois_ecart(date1, date2):\n",
    "    # Calcul de la différence en mois\n",
    "    difference_mois = (date2.year - date1.year) * 12 + date2.month - date1.month\n",
    "    \n",
    "    # Vérification si la différence est supérieure à 12 mois\n",
    "    return difference_mois < 12"
   ]
  },
  {
   "cell_type": "markdown",
   "id": "cd585372-4c48-4fde-a39e-098777e73ec2",
   "metadata": {},
   "source": [
    "<code style=\"background:LightBlue;color:white\"> <strong><em> K-Nearest Neighbors  </em> </strong> "
   ]
  },
  {
   "cell_type": "code",
   "execution_count": 22,
   "id": "09b41028-cbb6-4d51-908b-242a385b695a",
   "metadata": {},
   "outputs": [],
   "source": [
    "df = accounts.drop(accounts[accounts['Defaut_paiement'] == -1].index)"
   ]
  },
  {
   "cell_type": "code",
   "execution_count": 23,
   "id": "24bca5f1-3085-4bd4-b62d-b05c1fa8b488",
   "metadata": {},
   "outputs": [
    {
     "data": {
      "image/png": "[encoded data removed]",
      "text/plain": [
       "<Figure size 640x480 with 1 Axes>"
      ]
     },
     "metadata": {},
     "output_type": "display_data"
    }
   ],
   "source": [
    "# Count the occurrences of each status\n",
    "status_counts = df[\"Defaut_paiement\"].value_counts()\n",
    "import matplotlib.pyplot as plt\n",
    "\n",
    "# Plotting the counts\n",
    "status_counts.plot(kind='bar', color='blue', alpha=0.7)\n",
    "plt.xlabel('Default Status')\n",
    "plt.ylabel('Frequency')\n",
    "plt.title('Frequency of Each Class in the DataFrame')\n",
    "plt.xticks(rotation=0)  # Keep the labels on the x-axis vertical for readability\n",
    "plt.show()"
   ]
  },
  {
   "cell_type": "code",
   "execution_count": 24,
   "id": "4bdcfe6f-1a7e-4ce1-b098-1ebd9a0bb564",
   "metadata": {},
   "outputs": [],
   "source": [
    "# Convertir les Timedelta en nombre de jours\n",
    "try:\n",
    "    df['Days_since_last_rejection'] = df['Time_last_rejection'].dt.days\n",
    "except:\n",
    "    df['Days_since_last_rejection'] =0\n",
    "    \n",
    "# Convertir en type de données entier si nécessaire\n",
    "df['Days_since_last_rejection'] = df['Days_since_last_rejection'].astype(int)"
   ]
  },
  {
   "cell_type": "code",
   "execution_count": 25,
   "id": "932f43bd-02ff-4862-9e4e-44cb7cc29fca",
   "metadata": {},
   "outputs": [],
   "source": [
    "df[\"Defaut_paiement\"] = df[\"Defaut_paiement\"].astype('category')"
   ]
  },
  {
   "cell_type": "code",
   "execution_count": 26,
   "id": "d671dbc6",
   "metadata": {},
   "outputs": [],
   "source": [
    "X=df[['n_rejection', 'sum_rejection','Days_since_last_rejection','account_evolution']]\n",
    "y=df[\"Defaut_paiement\"]"
   ]
  },
  {
   "cell_type": "code",
   "execution_count": 27,
   "id": "75c6aa05-f835-4459-bf74-2410b415e8b9",
   "metadata": {},
   "outputs": [],
   "source": [
    "from sklearn.utils import shuffle \n",
    "X, y = shuffle(X,y)"
   ]
  },
  {
   "cell_type": "code",
   "execution_count": 28,
   "id": "20f3d544-53d4-4d62-a534-a3bbe1df80c9",
   "metadata": {},
   "outputs": [],
   "source": [
    "from sklearn.model_selection import train_test_split \n",
    "X_train, X_test, y_train, y_test = train_test_split(X,y)"
   ]
  },
  {
   "cell_type": "code",
   "execution_count": 29,
   "id": "8ff0a37c-0454-48bb-af3b-d99c4fd5dd2f",
   "metadata": {},
   "outputs": [
    {
     "data": {
      "text/html": [
       "<style>#sk-container-id-1 {\n",
       "  /* Definition of color scheme common for light and dark mode */\n",
       "  --sklearn-color-text: black;\n",
       "  --sklearn-color-line: gray;\n",
       "  /* Definition of color scheme for unfitted estimators */\n",
       "  --sklearn-color-unfitted-level-0: #fff5e6;\n",
       "  --sklearn-color-unfitted-level-1: #f6e4d2;\n",
       "  --sklearn-color-unfitted-level-2: #ffe0b3;\n",
       "  --sklearn-color-unfitted-level-3: chocolate;\n",
       "  /* Definition of color scheme for fitted estimators */\n",
       "  --sklearn-color-fitted-level-0: #f0f8ff;\n",
       "  --sklearn-color-fitted-level-1: #d4ebff;\n",
       "  --sklearn-color-fitted-level-2: #b3dbfd;\n",
       "  --sklearn-color-fitted-level-3: cornflowerblue;\n",
       "\n",
       "  /* Specific color for light theme */\n",
       "  --sklearn-color-text-on-default-background: var(--sg-text-color, var(--theme-code-foreground, var(--jp-content-font-color1, black)));\n",
       "  --sklearn-color-background: var(--sg-background-color, var(--theme-background, var(--jp-layout-color0, white)));\n",
       "  --sklearn-color-border-box: var(--sg-text-color, var(--theme-code-foreground, var(--jp-content-font-color1, black)));\n",
       "  --sklearn-color-icon: #696969;\n",
       "\n",
       "  @media (prefers-color-scheme: dark) {\n",
       "    /* Redefinition of color scheme for dark theme */\n",
       "    --sklearn-color-text-on-default-background: var(--sg-text-color, var(--theme-code-foreground, var(--jp-content-font-color1, white)));\n",
       "    --sklearn-color-background: var(--sg-background-color, var(--theme-background, var(--jp-layout-color0, #111)));\n",
       "    --sklearn-color-border-box: var(--sg-text-color, var(--theme-code-foreground, var(--jp-content-font-color1, white)));\n",
       "    --sklearn-color-icon: #878787;\n",
       "  }\n",
       "}\n",
       "\n",
       "#sk-container-id-1 {\n",
       "  color: var(--sklearn-color-text);\n",
       "}\n",
       "\n",
       "#sk-container-id-1 pre {\n",
       "  padding: 0;\n",
       "}\n",
       "\n",
       "#sk-container-id-1 input.sk-hidden--visually {\n",
       "  border: 0;\n",
       "  clip: rect(1px 1px 1px 1px);\n",
       "  clip: rect(1px, 1px, 1px, 1px);\n",
       "  height: 1px;\n",
       "  margin: -1px;\n",
       "  overflow: hidden;\n",
       "  padding: 0;\n",
       "  position: absolute;\n",
       "  width: 1px;\n",
       "}\n",
       "\n",
       "#sk-container-id-1 div.sk-dashed-wrapped {\n",
       "  border: 1px dashed var(--sklearn-color-line);\n",
       "  margin: 0 0.4em 0.5em 0.4em;\n",
       "  box-sizing: border-box;\n",
       "  padding-bottom: 0.4em;\n",
       "  background-color: var(--sklearn-color-background);\n",
       "}\n",
       "\n",
       "#sk-container-id-1 div.sk-container {\n",
       "  /* jupyter's `normalize.less` sets `[hidden] { display: none; }`\n",
       "     but bootstrap.min.css set `[hidden] { display: none !important; }`\n",
       "     so we also need the `!important` here to be able to override the\n",
       "     default hidden behavior on the sphinx rendered scikit-learn.org.\n",
       "     See: https://github.com/scikit-learn/scikit-learn/issues/21755 */\n",
       "  display: inline-block !important;\n",
       "  position: relative;\n",
       "}\n",
       "\n",
       "#sk-container-id-1 div.sk-text-repr-fallback {\n",
       "  display: none;\n",
       "}\n",
       "\n",
       "div.sk-parallel-item,\n",
       "div.sk-serial,\n",
       "div.sk-item {\n",
       "  /* draw centered vertical line to link estimators */\n",
       "  background-image: linear-gradient(var(--sklearn-color-text-on-default-background), var(--sklearn-color-text-on-default-background));\n",
       "  background-size: 2px 100%;\n",
       "  background-repeat: no-repeat;\n",
       "  background-position: center center;\n",
       "}\n",
       "\n",
       "/* Parallel-specific style estimator block */\n",
       "\n",
       "#sk-container-id-1 div.sk-parallel-item::after {\n",
       "  content: \"\";\n",
       "  width: 100%;\n",
       "  border-bottom: 2px solid var(--sklearn-color-text-on-default-background);\n",
       "  flex-grow: 1;\n",
       "}\n",
       "\n",
       "#sk-container-id-1 div.sk-parallel {\n",
       "  display: flex;\n",
       "  align-items: stretch;\n",
       "  justify-content: center;\n",
       "  background-color: var(--sklearn-color-background);\n",
       "  position: relative;\n",
       "}\n",
       "\n",
       "#sk-container-id-1 div.sk-parallel-item {\n",
       "  display: flex;\n",
       "  flex-direction: column;\n",
       "}\n",
       "\n",
       "#sk-container-id-1 div.sk-parallel-item:first-child::after {\n",
       "  align-self: flex-end;\n",
       "  width: 50%;\n",
       "}\n",
       "\n",
       "#sk-container-id-1 div.sk-parallel-item:last-child::after {\n",
       "  align-self: flex-start;\n",
       "  width: 50%;\n",
       "}\n",
       "\n",
       "#sk-container-id-1 div.sk-parallel-item:only-child::after {\n",
       "  width: 0;\n",
       "}\n",
       "\n",
       "/* Serial-specific style estimator block */\n",
       "\n",
       "#sk-container-id-1 div.sk-serial {\n",
       "  display: flex;\n",
       "  flex-direction: column;\n",
       "  align-items: center;\n",
       "  background-color: var(--sklearn-color-background);\n",
       "  padding-right: 1em;\n",
       "  padding-left: 1em;\n",
       "}\n",
       "\n",
       "\n",
       "/* Toggleable style: style used for estimator/Pipeline/ColumnTransformer box that is\n",
       "clickable and can be expanded/collapsed.\n",
       "- Pipeline and ColumnTransformer use this feature and define the default style\n",
       "- Estimators will overwrite some part of the style using the `sk-estimator` class\n",
       "*/\n",
       "\n",
       "/* Pipeline and ColumnTransformer style (default) */\n",
       "\n",
       "#sk-container-id-1 div.sk-toggleable {\n",
       "  /* Default theme specific background. It is overwritten whether we have a\n",
       "  specific estimator or a Pipeline/ColumnTransformer */\n",
       "  background-color: var(--sklearn-color-background);\n",
       "}\n",
       "\n",
       "/* Toggleable label */\n",
       "#sk-container-id-1 label.sk-toggleable__label {\n",
       "  cursor: pointer;\n",
       "  display: block;\n",
       "  width: 100%;\n",
       "  margin-bottom: 0;\n",
       "  padding: 0.5em;\n",
       "  box-sizing: border-box;\n",
       "  text-align: center;\n",
       "}\n",
       "\n",
       "#sk-container-id-1 label.sk-toggleable__label-arrow:before {\n",
       "  /* Arrow on the left of the label */\n",
       "  content: \"▸\";\n",
       "  float: left;\n",
       "  margin-right: 0.25em;\n",
       "  color: var(--sklearn-color-icon);\n",
       "}\n",
       "\n",
       "#sk-container-id-1 label.sk-toggleable__label-arrow:hover:before {\n",
       "  color: var(--sklearn-color-text);\n",
       "}\n",
       "\n",
       "/* Toggleable content - dropdown */\n",
       "\n",
       "#sk-container-id-1 div.sk-toggleable__content {\n",
       "  max-height: 0;\n",
       "  max-width: 0;\n",
       "  overflow: hidden;\n",
       "  text-align: left;\n",
       "  /* unfitted */\n",
       "  background-color: var(--sklearn-color-unfitted-level-0);\n",
       "}\n",
       "\n",
       "#sk-container-id-1 div.sk-toggleable__content.fitted {\n",
       "  /* fitted */\n",
       "  background-color: var(--sklearn-color-fitted-level-0);\n",
       "}\n",
       "\n",
       "#sk-container-id-1 div.sk-toggleable__content pre {\n",
       "  margin: 0.2em;\n",
       "  border-radius: 0.25em;\n",
       "  color: var(--sklearn-color-text);\n",
       "  /* unfitted */\n",
       "  background-color: var(--sklearn-color-unfitted-level-0);\n",
       "}\n",
       "\n",
       "#sk-container-id-1 div.sk-toggleable__content.fitted pre {\n",
       "  /* unfitted */\n",
       "  background-color: var(--sklearn-color-fitted-level-0);\n",
       "}\n",
       "\n",
       "#sk-container-id-1 input.sk-toggleable__control:checked~div.sk-toggleable__content {\n",
       "  /* Expand drop-down */\n",
       "  max-height: 200px;\n",
       "  max-width: 100%;\n",
       "  overflow: auto;\n",
       "}\n",
       "\n",
       "#sk-container-id-1 input.sk-toggleable__control:checked~label.sk-toggleable__label-arrow:before {\n",
       "  content: \"▾\";\n",
       "}\n",
       "\n",
       "/* Pipeline/ColumnTransformer-specific style */\n",
       "\n",
       "#sk-container-id-1 div.sk-label input.sk-toggleable__control:checked~label.sk-toggleable__label {\n",
       "  color: var(--sklearn-color-text);\n",
       "  background-color: var(--sklearn-color-unfitted-level-2);\n",
       "}\n",
       "\n",
       "#sk-container-id-1 div.sk-label.fitted input.sk-toggleable__control:checked~label.sk-toggleable__label {\n",
       "  background-color: var(--sklearn-color-fitted-level-2);\n",
       "}\n",
       "\n",
       "/* Estimator-specific style */\n",
       "\n",
       "/* Colorize estimator box */\n",
       "#sk-container-id-1 div.sk-estimator input.sk-toggleable__control:checked~label.sk-toggleable__label {\n",
       "  /* unfitted */\n",
       "  background-color: var(--sklearn-color-unfitted-level-2);\n",
       "}\n",
       "\n",
       "#sk-container-id-1 div.sk-estimator.fitted input.sk-toggleable__control:checked~label.sk-toggleable__label {\n",
       "  /* fitted */\n",
       "  background-color: var(--sklearn-color-fitted-level-2);\n",
       "}\n",
       "\n",
       "#sk-container-id-1 div.sk-label label.sk-toggleable__label,\n",
       "#sk-container-id-1 div.sk-label label {\n",
       "  /* The background is the default theme color */\n",
       "  color: var(--sklearn-color-text-on-default-background);\n",
       "}\n",
       "\n",
       "/* On hover, darken the color of the background */\n",
       "#sk-container-id-1 div.sk-label:hover label.sk-toggleable__label {\n",
       "  color: var(--sklearn-color-text);\n",
       "  background-color: var(--sklearn-color-unfitted-level-2);\n",
       "}\n",
       "\n",
       "/* Label box, darken color on hover, fitted */\n",
       "#sk-container-id-1 div.sk-label.fitted:hover label.sk-toggleable__label.fitted {\n",
       "  color: var(--sklearn-color-text);\n",
       "  background-color: var(--sklearn-color-fitted-level-2);\n",
       "}\n",
       "\n",
       "/* Estimator label */\n",
       "\n",
       "#sk-container-id-1 div.sk-label label {\n",
       "  font-family: monospace;\n",
       "  font-weight: bold;\n",
       "  display: inline-block;\n",
       "  line-height: 1.2em;\n",
       "}\n",
       "\n",
       "#sk-container-id-1 div.sk-label-container {\n",
       "  text-align: center;\n",
       "}\n",
       "\n",
       "/* Estimator-specific */\n",
       "#sk-container-id-1 div.sk-estimator {\n",
       "  font-family: monospace;\n",
       "  border: 1px dotted var(--sklearn-color-border-box);\n",
       "  border-radius: 0.25em;\n",
       "  box-sizing: border-box;\n",
       "  margin-bottom: 0.5em;\n",
       "  /* unfitted */\n",
       "  background-color: var(--sklearn-color-unfitted-level-0);\n",
       "}\n",
       "\n",
       "#sk-container-id-1 div.sk-estimator.fitted {\n",
       "  /* fitted */\n",
       "  background-color: var(--sklearn-color-fitted-level-0);\n",
       "}\n",
       "\n",
       "/* on hover */\n",
       "#sk-container-id-1 div.sk-estimator:hover {\n",
       "  /* unfitted */\n",
       "  background-color: var(--sklearn-color-unfitted-level-2);\n",
       "}\n",
       "\n",
       "#sk-container-id-1 div.sk-estimator.fitted:hover {\n",
       "  /* fitted */\n",
       "  background-color: var(--sklearn-color-fitted-level-2);\n",
       "}\n",
       "\n",
       "/* Specification for estimator info (e.g. \"i\" and \"?\") */\n",
       "\n",
       "/* Common style for \"i\" and \"?\" */\n",
       "\n",
       ".sk-estimator-doc-link,\n",
       "a:link.sk-estimator-doc-link,\n",
       "a:visited.sk-estimator-doc-link {\n",
       "  float: right;\n",
       "  font-size: smaller;\n",
       "  line-height: 1em;\n",
       "  font-family: monospace;\n",
       "  background-color: var(--sklearn-color-background);\n",
       "  border-radius: 1em;\n",
       "  height: 1em;\n",
       "  width: 1em;\n",
       "  text-decoration: none !important;\n",
       "  margin-left: 1ex;\n",
       "  /* unfitted */\n",
       "  border: var(--sklearn-color-unfitted-level-1) 1pt solid;\n",
       "  color: var(--sklearn-color-unfitted-level-1);\n",
       "}\n",
       "\n",
       ".sk-estimator-doc-link.fitted,\n",
       "a:link.sk-estimator-doc-link.fitted,\n",
       "a:visited.sk-estimator-doc-link.fitted {\n",
       "  /* fitted */\n",
       "  border: var(--sklearn-color-fitted-level-1) 1pt solid;\n",
       "  color: var(--sklearn-color-fitted-level-1);\n",
       "}\n",
       "\n",
       "/* On hover */\n",
       "div.sk-estimator:hover .sk-estimator-doc-link:hover,\n",
       ".sk-estimator-doc-link:hover,\n",
       "div.sk-label-container:hover .sk-estimator-doc-link:hover,\n",
       ".sk-estimator-doc-link:hover {\n",
       "  /* unfitted */\n",
       "  background-color: var(--sklearn-color-unfitted-level-3);\n",
       "  color: var(--sklearn-color-background);\n",
       "  text-decoration: none;\n",
       "}\n",
       "\n",
       "div.sk-estimator.fitted:hover .sk-estimator-doc-link.fitted:hover,\n",
       ".sk-estimator-doc-link.fitted:hover,\n",
       "div.sk-label-container:hover .sk-estimator-doc-link.fitted:hover,\n",
       ".sk-estimator-doc-link.fitted:hover {\n",
       "  /* fitted */\n",
       "  background-color: var(--sklearn-color-fitted-level-3);\n",
       "  color: var(--sklearn-color-background);\n",
       "  text-decoration: none;\n",
       "}\n",
       "\n",
       "/* Span, style for the box shown on hovering the info icon */\n",
       ".sk-estimator-doc-link span {\n",
       "  display: none;\n",
       "  z-index: 9999;\n",
       "  position: relative;\n",
       "  font-weight: normal;\n",
       "  right: .2ex;\n",
       "  padding: .5ex;\n",
       "  margin: .5ex;\n",
       "  width: min-content;\n",
       "  min-width: 20ex;\n",
       "  max-width: 50ex;\n",
       "  color: var(--sklearn-color-text);\n",
       "  box-shadow: 2pt 2pt 4pt #999;\n",
       "  /* unfitted */\n",
       "  background: var(--sklearn-color-unfitted-level-0);\n",
       "  border: .5pt solid var(--sklearn-color-unfitted-level-3);\n",
       "}\n",
       "\n",
       ".sk-estimator-doc-link.fitted span {\n",
       "  /* fitted */\n",
       "  background: var(--sklearn-color-fitted-level-0);\n",
       "  border: var(--sklearn-color-fitted-level-3);\n",
       "}\n",
       "\n",
       ".sk-estimator-doc-link:hover span {\n",
       "  display: block;\n",
       "}\n",
       "\n",
       "/* \"?\"-specific style due to the `<a>` HTML tag */\n",
       "\n",
       "#sk-container-id-1 a.estimator_doc_link {\n",
       "  float: right;\n",
       "  font-size: 1rem;\n",
       "  line-height: 1em;\n",
       "  font-family: monospace;\n",
       "  background-color: var(--sklearn-color-background);\n",
       "  border-radius: 1rem;\n",
       "  height: 1rem;\n",
       "  width: 1rem;\n",
       "  text-decoration: none;\n",
       "  /* unfitted */\n",
       "  color: var(--sklearn-color-unfitted-level-1);\n",
       "  border: var(--sklearn-color-unfitted-level-1) 1pt solid;\n",
       "}\n",
       "\n",
       "#sk-container-id-1 a.estimator_doc_link.fitted {\n",
       "  /* fitted */\n",
       "  border: var(--sklearn-color-fitted-level-1) 1pt solid;\n",
       "  color: var(--sklearn-color-fitted-level-1);\n",
       "}\n",
       "\n",
       "/* On hover */\n",
       "#sk-container-id-1 a.estimator_doc_link:hover {\n",
       "  /* unfitted */\n",
       "  background-color: var(--sklearn-color-unfitted-level-3);\n",
       "  color: var(--sklearn-color-background);\n",
       "  text-decoration: none;\n",
       "}\n",
       "\n",
       "#sk-container-id-1 a.estimator_doc_link.fitted:hover {\n",
       "  /* fitted */\n",
       "  background-color: var(--sklearn-color-fitted-level-3);\n",
       "}\n",
       "</style><div id=\"sk-container-id-1\" class=\"sk-top-container\"><div class=\"sk-text-repr-fallback\"><pre>KNeighborsClassifier(n_neighbors=3)</pre><b>In a Jupyter environment, please rerun this cell to show the HTML representation or trust the notebook. <br />On GitHub, the HTML representation is unable to render, please try loading this page with nbviewer.org.</b></div><div class=\"sk-container\" hidden><div class=\"sk-item\"><div class=\"sk-estimator fitted sk-toggleable\"><input class=\"sk-toggleable__control sk-hidden--visually\" id=\"sk-estimator-id-1\" type=\"checkbox\" checked><label for=\"sk-estimator-id-1\" class=\"sk-toggleable__label fitted sk-toggleable__label-arrow fitted\">&nbsp;&nbsp;KNeighborsClassifier<a class=\"sk-estimator-doc-link fitted\" rel=\"noreferrer\" target=\"_blank\" href=\"https://scikit-learn.org/1.4/modules/generated/sklearn.neighbors.KNeighborsClassifier.html\">?<span>Documentation for KNeighborsClassifier</span></a><span class=\"sk-estimator-doc-link fitted\">i<span>Fitted</span></span></label><div class=\"sk-toggleable__content fitted\"><pre>KNeighborsClassifier(n_neighbors=3)</pre></div> </div></div></div></div>"
      ],
      "text/plain": [
       "KNeighborsClassifier(n_neighbors=3)"
      ]
     },
     "execution_count": 29,
     "metadata": {},
     "output_type": "execute_result"
    }
   ],
   "source": [
    "from sklearn.neighbors import KNeighborsClassifier \n",
    "knn = KNeighborsClassifier(n_neighbors=3) \n",
    "knn.fit(X_train, y_train)"
   ]
  },
  {
   "cell_type": "code",
   "execution_count": 30,
   "id": "65e55e94-6753-4d26-b580-c61d9b92ea02",
   "metadata": {},
   "outputs": [
    {
     "data": {
      "text/plain": [
       "0.9863894139886579"
      ]
     },
     "execution_count": 30,
     "metadata": {},
     "output_type": "execute_result"
    }
   ],
   "source": [
    "knn.score( X_test, y_test)"
   ]
  },
  {
   "cell_type": "code",
   "execution_count": 38,
   "id": "d174e5c0-a781-45bf-87c5-fe88f4666cb0",
   "metadata": {},
   "outputs": [
    {
     "data": {
      "image/png": "[encoded data removed]",
      "text/plain": [
       "<Figure size 1000x600 with 1 Axes>"
      ]
     },
     "metadata": {},
     "output_type": "display_data"
    },
    {
     "name": "stdout",
     "output_type": "stream",
     "text": [
      "La meilleure valeur de k est : 5\n"
     ]
    }
   ],
   "source": [
    "# Définir une liste des valeurs de k à tester\n",
    "k_values = range(1, 21)\n",
    "from sklearn.metrics import accuracy_score\n",
    "# Initialiser des listes pour stocker les scores d'apprentissage et de test\n",
    "train_scores = []\n",
    "test_scores = []\n",
    "# Boucler sur les valeurs de k\n",
    "for k in k_values:\n",
    "    # Créer et entraîner le modèle kNN\n",
    "    knn = KNeighborsClassifier(n_neighbors=k)\n",
    "    knn.fit(X_train, y_train)\n",
    "    \n",
    "    # Prédire sur l'ensemble d'apprentissage et calculer le score\n",
    "    y_train_pred = knn.predict(X_train)\n",
    "    train_accuracy = accuracy_score(y_train, y_train_pred)\n",
    "    train_scores.append(train_accuracy)\n",
    "    \n",
    "    # Prédire sur l'ensemble de test et calculer le score\n",
    "    y_test_pred = knn.predict(X_test)\n",
    "    test_accuracy = accuracy_score(y_test, y_test_pred)\n",
    "    test_scores.append(test_accuracy)\n",
    "\n",
    "# Tracer les courbes des scores\n",
    "plt.figure(figsize=(10, 6))\n",
    "plt.plot(k_values, train_scores, label='Train Score', marker='o')\n",
    "plt.plot(k_values, test_scores, label='Test Score', marker='o')\n",
    "plt.title('Scores de classification pour différentes valeurs de k')\n",
    "plt.xlabel('Valeurs de k')\n",
    "plt.ylabel('Score de classification')\n",
    "plt.xticks(k_values)\n",
    "plt.legend()\n",
    "plt.grid(True)\n",
    "plt.show()\n",
    "\n",
    "# Trouver la meilleure valeur de k\n",
    "best_k = k_values[np.argmax(test_scores)]\n",
    "print(\"La meilleure valeur de k est :\", best_k)"
   ]
  },
  {
   "cell_type": "code",
   "execution_count": null,
   "id": "f00d28d1-9ff7-4545-9d7b-00c8f29eed6e",
   "metadata": {},
   "outputs": [],
   "source": []
  }
 ],
 "metadata": {
  "kernelspec": {
   "display_name": "Python 3 (ipykernel)",
   "language": "python",
   "name": "python3"
  },
  "language_info": {
   "codemirror_mode": {
    "name": "ipython",
    "version": 3
   },
   "file_extension": ".py",
   "mimetype": "text/x-python",
   "name": "python",
   "nbconvert_exporter": "python",
   "pygments_lexer": "ipython3",
   "version": "3.11.6"
  }
 },
 "nbformat": 4,
 "nbformat_minor": 5
}
