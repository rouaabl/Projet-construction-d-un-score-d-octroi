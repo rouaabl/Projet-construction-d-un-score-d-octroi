{
 "cells": [
  {
   "cell_type": "code",
   "execution_count": 2,
   "id": "8f4a8b97-771f-4087-904a-be92a1b57bfd",
   "metadata": {},
   "outputs": [],
   "source": [
    "import pandas as pd\n",
    "from sklearn.model_selection import train_test_split\n",
    "from sklearn.linear_model import LogisticRegression\n",
    "from sklearn.metrics import confusion_matrix, accuracy_score, precision_score, recall_score, f1_score\n"
   ]
  },
  {
   "cell_type": "code",
   "execution_count": null,
   "id": "680bde79-5b05-4fc6-bf64-100306c0480e",
   "metadata": {},
   "outputs": [],
   "source": [
    "df=pd.read_csv(\"\")"
   ]
  },
  {
   "cell_type": "code",
   "execution_count": null,
   "id": "9647d988-b090-4a13-b8a6-975fa681c70b",
   "metadata": {},
   "outputs": [],
   "source": [
    "X = df.drop('cible', axis=1)  \n",
    "y = d['cible']"
   ]
  },
  {
   "cell_type": "code",
   "execution_count": null,
   "id": "bd4e7cf7-e637-4494-9095-1ee8623c288d",
   "metadata": {},
   "outputs": [],
   "source": [
    "X_train, X_test, y_train, y_test = train_test_split(X, y, test_size=0.2, random_state=42)"
   ]
  },
  {
   "cell_type": "code",
   "execution_count": null,
   "id": "5b056ada-0b9c-4268-8be3-c6b0aac0aa67",
   "metadata": {},
   "outputs": [],
   "source": [
    "model = LogisticRegression()\n",
    "model.fit(X_train, y_train)\n",
    "\n",
    "# Prédictions \n",
    "predictions = model.predict(X_test)\n",
    "\n",
    "# matrice de confusion\n",
    "conf_matrix = confusion_matrix(y_test, predictions)\n",
    "\n",
    "# Performance\n",
    "accuracy = accuracy_score(y_test, predictions)\n",
    "precision = precision_score(y_test, predictions)\n",
    "recall = recall_score(y_test, predictions)\n",
    "f1 = f1_score(y_test, predictions)\n",
    "\n",
    "\n",
    "print(\"Matrice de confusion:\")\n",
    "print(conf_matrix)\n",
    "print(\"\\nScore d'exactitude:\", accuracy)\n",
    "print(\"Précision:\", precision)\n",
    "print(\"Rappel:\", recall)\n",
    "print(\"Score F1:\", f1)"
   ]
  }
 ],
 "metadata": {
  "kernelspec": {
   "display_name": "Python 3 (ipykernel)",
   "language": "python",
   "name": "python3"
  },
  "language_info": {
   "codemirror_mode": {
    "name": "ipython",
    "version": 3
   },
   "file_extension": ".py",
   "mimetype": "text/x-python",
   "name": "python",
   "nbconvert_exporter": "python",
   "pygments_lexer": "ipython3",
   "version": "3.12.2"
  }
 },
 "nbformat": 4,
 "nbformat_minor": 5
}
